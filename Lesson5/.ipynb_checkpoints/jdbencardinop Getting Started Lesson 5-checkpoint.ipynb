{
 "cells": [
  {
   "cell_type": "code",
   "execution_count": null,
   "metadata": {},
   "outputs": [],
   "source": [
    "# Import Algorithm API\n",
    "import quantopian.algorithm as algo\n",
    "\n",
    "\n",
    "def initialize(context):\n",
    "    # Initialize algorithm parameters\n",
    "    context.day_count = 0\n",
    "    context.daily_message = \"Day {}.\"\n",
    "    context.weekly_message = \"Time to place some trades!\"\n",
    "\n",
    "    # Schedule rebalance function\n",
    "    algo.schedule_function(\n",
    "        rebalance,\n",
    "        date_rule=algo.date_rules.week_start(),\n",
    "        time_rule=algo.time_rules.market_open()\n",
    "    )\n",
    "\n",
    "\n",
    "def before_trading_start(context, data):\n",
    "    # Execute any daily actions that need to happen\n",
    "    # before the start of a trading session\n",
    "    context.day_count += 1\n",
    "    log.info(context.daily_message, context.day_count)\n",
    "\n",
    "\n",
    "def rebalance(context, data):\n",
    "    # Execute rebalance logic\n",
    "    log.info(context.weekly_message)"
   ]
  }
 ],
 "metadata": {
  "kernelspec": {
   "display_name": "Python 3",
   "language": "python",
   "name": "python3"
  },
  "language_info": {
   "codemirror_mode": {
    "name": "ipython",
    "version": 3
   },
   "file_extension": ".py",
   "mimetype": "text/x-python",
   "name": "python",
   "nbconvert_exporter": "python",
   "pygments_lexer": "ipython3",
   "version": "3.7.4"
  }
 },
 "nbformat": 4,
 "nbformat_minor": 4
}
